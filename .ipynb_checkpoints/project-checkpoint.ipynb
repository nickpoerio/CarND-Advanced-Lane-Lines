{
 "cells": [
  {
   "cell_type": "code",
   "execution_count": null,
   "metadata": {},
   "outputs": [],
   "source": [
    "import cv2\n",
    "import glob\n",
    "import numpy as np\n",
    "import sys\n",
    "\n",
    "images=glob.glob('examples/calibration*.jpg')\n",
    "\n",
    "#camera calibration\n",
    "nx=9\n",
    "ny=6\n",
    "objpoints = []\n",
    "imgpoints = []\n",
    "\n",
    "objp=np.zeros((nx*ny,3),np.float32)\n",
    "objp[:,:2]=np.mgrid[0:nx,0:ny].T.reshape(-1,2) #x,y coord\n",
    "\n",
    "#find points\n",
    "for img in images:\n",
    "    gray = cv2.cvtColor(img, cv2.COLOR_BGR2GRAY)\n",
    "    ret, corners = cv2.findChessboardCorners(gray, (nx,ny), None)\n",
    "    if ret==True:\n",
    "        imgpoints.append(corners)\n",
    "        objpoints.append(objp)\n",
    "\n",
    "\n",
    "#calibrate\n",
    "ret, mtx, dist, rvecs, tvecs = cv2.calibrateCamera(objpoints, imgpoints, gray.shape[1::-1], None, None)\n",
    "#undistord example\n",
    "undist = cv2.undistort(images[3], mtx, dist, None, mtx)\n",
    "cv2.imshow(undist)"
   ]
  },
  {
   "cell_type": "code",
   "execution_count": null,
   "metadata": {
    "collapsed": true
   },
   "outputs": [],
   "source": []
  },
  {
   "cell_type": "code",
   "execution_count": null,
   "metadata": {
    "collapsed": true
   },
   "outputs": [],
   "source": []
  }
 ],
 "metadata": {
  "kernelspec": {
   "display_name": "Python 3",
   "language": "python",
   "name": "python3"
  }
 },
 "nbformat": 4,
 "nbformat_minor": 2
}
